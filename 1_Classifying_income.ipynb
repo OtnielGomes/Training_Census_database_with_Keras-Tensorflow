{
 "cells": [
  {
   "cell_type": "markdown",
   "id": "eb93a1d1-d22e-4a28-b539-48628c37043c",
   "metadata": {},
   "source": [
    "## Imports: "
   ]
  },
  {
   "cell_type": "code",
   "execution_count": 1,
   "id": "34887844-9ac9-40e1-9fa2-8927c54205e2",
   "metadata": {},
   "outputs": [],
   "source": [
    "import pickle\n",
    "import tensorflow\n",
    "from tensorflow import keras\n",
    "import matplotlib.pyplot as plt\n",
    "import numpy as np"
   ]
  },
  {
   "cell_type": "markdown",
   "id": "fbad10a7-f677-411d-b15a-5c445ca970d3",
   "metadata": {},
   "source": [
    "## loading database:"
   ]
  },
  {
   "cell_type": "code",
   "execution_count": 2,
   "id": "45f44367-8917-48c3-b592-c5ea552aed84",
   "metadata": {},
   "outputs": [],
   "source": [
    "with open('pre_processed_census_database.pkl', mode='rb') as f:\n",
    "    X_training, y_training, X_test, y_test, X_scaler = pickle.load(f)"
   ]
  },
  {
   "cell_type": "code",
   "execution_count": 3,
   "id": "ae6631d2-c3fe-411c-a2eb-df2603ecb9da",
   "metadata": {},
   "outputs": [
    {
     "data": {
      "text/plain": [
       "((25637, 108), (25637,), (4525, 108), (4525,))"
      ]
     },
     "execution_count": 3,
     "metadata": {},
     "output_type": "execute_result"
    }
   ],
   "source": [
    "X_training.shape, y_training.shape, X_test.shape, y_test.shape"
   ]
  },
  {
   "cell_type": "code",
   "execution_count": 4,
   "id": "5fa80a83-0b7f-48ad-8d80-cbd01e84ccaf",
   "metadata": {},
   "outputs": [
    {
     "data": {
      "text/plain": [
       "array([[-0.24923292,  5.7990656 , -0.2618232 , ..., -0.14945152,\n",
       "        -0.21178197,  1.56608846],\n",
       "       [-0.24923292, -0.17244157, -0.2618232 , ..., -0.14945152,\n",
       "        -0.21178197, -0.02660563],\n",
       "       [-0.24923292, -0.17244157,  3.81937127, ..., -0.14945152,\n",
       "        -0.21178197, -0.42477915],\n",
       "       ...,\n",
       "       [-0.24923292, -0.17244157, -0.2618232 , ..., -0.14945152,\n",
       "        -0.21178197, -0.02660563],\n",
       "       [-0.24923292, -0.17244157, -0.2618232 , ..., -0.14945152,\n",
       "        -0.21178197, -0.02660563],\n",
       "       [-0.24923292, -0.17244157, -0.2618232 , ..., -0.14945152,\n",
       "        -0.21178197, -0.82295267]])"
      ]
     },
     "execution_count": 4,
     "metadata": {},
     "output_type": "execute_result"
    }
   ],
   "source": [
    "X_training"
   ]
  },
  {
   "cell_type": "code",
   "execution_count": 5,
   "id": "8e8decbe-3261-4ac8-907c-d982a2afc47d",
   "metadata": {
    "scrolled": true
   },
   "outputs": [
    {
     "data": {
      "text/plain": [
       "array([0., 0., 0., ..., 0., 0., 0.])"
      ]
     },
     "execution_count": 5,
     "metadata": {},
     "output_type": "execute_result"
    }
   ],
   "source": [
    "y_training"
   ]
  },
  {
   "cell_type": "markdown",
   "id": "5807e509-9626-495d-8163-e5b0ae9b8f22",
   "metadata": {},
   "source": [
    "## Training"
   ]
  },
  {
   "cell_type": "markdown",
   "id": "43dce72a-bac6-4692-a925-89f821eef7ed",
   "metadata": {},
   "source": [
    "### Model"
   ]
  },
  {
   "cell_type": "code",
   "execution_count": 6,
   "id": "db582343-8181-4f5e-9b00-fd3c6aefb3b6",
   "metadata": {
    "scrolled": true
   },
   "outputs": [],
   "source": [
    "model = keras.Sequential([\n",
    "    keras.layers.Dense(108,input_dim=108, activation=tensorflow.nn.relu),\n",
    "    keras.layers.Dense(64, activation=tensorflow.nn.relu),\n",
    "    keras.layers.Dropout(0.2),\n",
    "    keras.layers.Dense(32, activation=tensorflow.nn.relu),\n",
    "    keras.layers.Dropout(0.2),\n",
    "    keras.layers.Dense(2, activation=tensorflow.nn.softmax)\n",
    "])\n"
   ]
  },
  {
   "cell_type": "markdown",
   "id": "a00ac3f2-a1e0-4e45-bc8c-3e0f31e1c7c4",
   "metadata": {},
   "source": [
    "### Hyperparameters"
   ]
  },
  {
   "cell_type": "code",
   "execution_count": 7,
   "id": "0250c432-78ec-42fe-b70d-806cf6c52ee6",
   "metadata": {},
   "outputs": [],
   "source": [
    "adam = keras.optimizers.Adam(learning_rate=0.0001)\n",
    "\n",
    "callbacks = [\n",
    "    keras.callbacks.EarlyStopping('val_loss'), \n",
    "    keras.callbacks.EarlyStopping('val_accuracy')\n",
    "]"
   ]
  },
  {
   "cell_type": "markdown",
   "id": "411e9a37-b585-432d-9dbd-e376839a953b",
   "metadata": {},
   "source": [
    "### Compile"
   ]
  },
  {
   "cell_type": "code",
   "execution_count": 8,
   "id": "8e5cae5f-9926-4a79-9732-df5522a3b60c",
   "metadata": {},
   "outputs": [
    {
     "name": "stdout",
     "output_type": "stream",
     "text": [
      "Epoch 1/30\n",
      "367/367 [==============================] - 2s 2ms/step - loss: 0.5672 - accuracy: 0.7040 - val_loss: 0.4451 - val_accuracy: 0.7972\n",
      "Epoch 2/30\n",
      "367/367 [==============================] - 1s 2ms/step - loss: 0.4162 - accuracy: 0.8093 - val_loss: 0.3768 - val_accuracy: 0.8241\n",
      "Epoch 3/30\n",
      "367/367 [==============================] - 1s 2ms/step - loss: 0.3775 - accuracy: 0.8315 - val_loss: 0.3572 - val_accuracy: 0.8340\n",
      "Epoch 4/30\n",
      "367/367 [==============================] - 1s 2ms/step - loss: 0.3603 - accuracy: 0.8340 - val_loss: 0.3492 - val_accuracy: 0.8370\n",
      "Epoch 5/30\n",
      "367/367 [==============================] - 1s 2ms/step - loss: 0.3509 - accuracy: 0.8400 - val_loss: 0.3448 - val_accuracy: 0.8378\n",
      "Epoch 6/30\n",
      "367/367 [==============================] - 1s 2ms/step - loss: 0.3421 - accuracy: 0.8437 - val_loss: 0.3404 - val_accuracy: 0.8403\n",
      "Epoch 7/30\n",
      "367/367 [==============================] - 1s 2ms/step - loss: 0.3377 - accuracy: 0.8452 - val_loss: 0.3374 - val_accuracy: 0.8428\n",
      "Epoch 8/30\n",
      "367/367 [==============================] - 1s 2ms/step - loss: 0.3334 - accuracy: 0.8436 - val_loss: 0.3364 - val_accuracy: 0.8426\n"
     ]
    }
   ],
   "source": [
    "model.compile(optimizer=adam, \n",
    "              loss='sparse_categorical_crossentropy', \n",
    "              metrics=['accuracy'])\n",
    "\n",
    "history = model.fit(X_training, y_training, \n",
    "                    batch_size=56,\n",
    "                    epochs=30, \n",
    "                    validation_split=0.2, \n",
    "                    callbacks=callbacks)"
   ]
  },
  {
   "cell_type": "markdown",
   "id": "dc3570d7-ba50-4d67-b48b-975f843ace4a",
   "metadata": {},
   "source": [
    "## Visualizing training and validation:"
   ]
  },
  {
   "cell_type": "code",
   "execution_count": 9,
   "id": "3297f3a0-f6aa-43ad-bd4e-cc4fca21ae91",
   "metadata": {},
   "outputs": [
    {
     "data": {
      "image/png": "[encoded data removed]",
      "text/plain": [
       "<Figure size 640x480 with 1 Axes>"
      ]
     },
     "metadata": {},
     "output_type": "display_data"
    }
   ],
   "source": [
    "plt.plot(history.history['accuracy'])\n",
    "plt.plot(history.history['val_accuracy'])\n",
    "plt.title('Accuracy for epochs')\n",
    "plt.xlabel('Epochs')\n",
    "plt.ylabel('Accuracy')\n",
    "plt.legend(['Training', 'Evaluation'])\n",
    "plt.show()"
   ]
  },
  {
   "cell_type": "markdown",
   "id": "b364a1df-4106-42cc-b140-58a308b80e14",
   "metadata": {},
   "source": [
    "## Visualizing losses and validation:"
   ]
  },
  {
   "cell_type": "code",
   "execution_count": 10,
   "id": "d9695242-ce55-4dc8-ab06-9d28937c980c",
   "metadata": {},
   "outputs": [
    {
     "data": {
      "image/png": "[encoded data removed]",
      "text/plain": [
       "<Figure size 640x480 with 1 Axes>"
      ]
     },
     "metadata": {},
     "output_type": "display_data"
    }
   ],
   "source": [
    "plt.plot(history.history['loss'])\n",
    "plt.plot(history.history['val_loss'])\n",
    "plt.title('Loss for epochs')\n",
    "plt.xlabel('Epochs')\n",
    "plt.ylabel('Loss')\n",
    "plt.legend(['Training', 'Evaluation'])\n",
    "plt.show()"
   ]
  },
  {
   "cell_type": "markdown",
   "id": "5cc9fb14-3539-42e9-9654-f6e59a899756",
   "metadata": {},
   "source": [
    "## Evaluating the model with the test base:\n",
    "### Accuracy and Loss"
   ]
  },
  {
   "cell_type": "code",
   "execution_count": 11,
   "id": "01fd3972-3d56-47c5-af33-fdd9125c81b0",
   "metadata": {},
   "outputs": [
    {
     "name": "stdout",
     "output_type": "stream",
     "text": [
      "142/142 [==============================] - 0s 1ms/step - loss: 0.3276 - accuracy: 0.8513\n",
      "\n",
      "LOSS: >>>>> 0.32763779163360596\n",
      "\n",
      "ACCURACY: >>>>> 0.8512707352638245\n"
     ]
    }
   ],
   "source": [
    "loss_test, accuracy_test = model.evaluate(X_test, y_test)\n",
    "print(f'\\nLOSS: >>>>> {loss_test}')\n",
    "print(f'\\nACCURACY: >>>>> {accuracy_test}')"
   ]
  },
  {
   "cell_type": "markdown",
   "id": "021f6675-76aa-49da-94ff-959746baf1ff",
   "metadata": {},
   "source": [
    "## Testing with test dataset "
   ]
  },
  {
   "cell_type": "code",
   "execution_count": 12,
   "id": "fb718afd-c57b-480b-b875-916131de3bf3",
   "metadata": {},
   "outputs": [
    {
     "name": "stdout",
     "output_type": "stream",
     "text": [
      "142/142 [==============================] - 0s 1ms/step\n"
     ]
    }
   ],
   "source": [
    "test_data = model.predict(X_test)\n",
    "prediction = np.argmax(test_data[0])\n",
    "pred_true = y_test[0]"
   ]
  },
  {
   "cell_type": "code",
   "execution_count": 13,
   "id": "de9eccba-4534-4ade-b246-025ba78ae419",
   "metadata": {},
   "outputs": [
    {
     "name": "stdout",
     "output_type": "stream",
     "text": [
      "Pediction: >>> Annual income less than or equal to 50 >>>(<=50k)\n",
      "Pred_True: >>> Annual income less than or equal to 50 >>>(<=50k)\n"
     ]
    }
   ],
   "source": [
    "if prediction == 0:\n",
    "    print('Pediction: >>> Annual income less than or equal to 50 >>>(<=50k)')\n",
    "else:\n",
    "    print('Pediction: >>> Annual income greater than 50k >>>(>50k)')\n",
    "if pred_true == 0:\n",
    "    print('Pred_True: >>> Annual income less than or equal to 50 >>>(<=50k)')\n",
    "else:\n",
    "    print('Pred_True: >>> Annual income greater than 50k >>>(>50k)')\n",
    "    "
   ]
  },
  {
   "cell_type": "markdown",
   "id": "d8389a7b-7a77-4711-aa71-c20c3396c92c",
   "metadata": {},
   "source": [
    "## Saving model:"
   ]
  },
  {
   "cell_type": "code",
   "execution_count": 14,
   "id": "893964a5-b362-49ae-8c00-192e079ba472",
   "metadata": {},
   "outputs": [],
   "source": [
    "model.save('model.keras')"
   ]
  }
 ],
 "metadata": {
  "kernelspec": {
   "display_name": "Python 3 (ipykernel)",
   "language": "python",
   "name": "python3"
  },
  "language_info": {
   "codemirror_mode": {
    "name": "ipython",
    "version": 3
   },
   "file_extension": ".py",
   "mimetype": "text/x-python",
   "name": "python",
   "nbconvert_exporter": "python",
   "pygments_lexer": "ipython3",
   "version": "3.11.4"
  }
 },
 "nbformat": 4,
 "nbformat_minor": 5
}

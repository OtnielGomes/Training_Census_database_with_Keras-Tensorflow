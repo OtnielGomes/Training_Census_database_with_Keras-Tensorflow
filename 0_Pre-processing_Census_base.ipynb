{
 "cells": [
  {
   "cell_type": "markdown",
   "id": "979ce974-e4d3-4321-b948-7a442c610b29",
   "metadata": {},
   "source": [
    "## Imports: "
   ]
  },
  {
   "cell_type": "code",
   "execution_count": 1,
   "id": "3fd12eaf-ea1e-46d6-8fe5-c06c12a47d5c",
   "metadata": {
    "scrolled": true
   },
   "outputs": [],
   "source": [
    "import pandas as pd\n",
    "import numpy as np\n",
    "import matplotlib.pyplot as plt\n",
    "from sklearn.preprocessing import LabelEncoder, OneHotEncoder, StandardScaler\n",
    "from sklearn.compose import ColumnTransformer\n",
    "from sklearn.model_selection import train_test_split\n",
    "from imblearn.over_sampling import SMOTE\n",
    "import pickle"
   ]
  },
  {
   "cell_type": "markdown",
   "id": "1f7e1fde-8531-4049-9f51-59956cf1fa14",
   "metadata": {},
   "source": [
    "#### Note two environments were used for this project, one environment for preprocessing and another for classification, due to some incompatibilities with keras x SMOTE."
   ]
  },
  {
   "cell_type": "markdown",
   "id": "fac9a07c-ca6b-4e3d-95d7-9ef2d865b474",
   "metadata": {},
   "source": [
    "## Loading database:\n",
    "### database that considers several factors such as: profession, location, hours worked, gender, age to determine whether the person's income is above 50k or below 50k."
   ]
  },
  {
   "cell_type": "code",
   "execution_count": 2,
   "id": "d6374844-7779-449f-a56a-21c647fd33ec",
   "metadata": {},
   "outputs": [],
   "source": [
    "census_base =  pd.read_csv('census.csv')"
   ]
  },
  {
   "cell_type": "markdown",
   "id": "ab7c5a80-fd1f-48e4-8cec-ea5ea077b301",
   "metadata": {},
   "source": [
    "## Analyzing the database"
   ]
  },
  {
   "cell_type": "code",
   "execution_count": 3,
   "id": "a4e80975-4f41-40da-a757-7108be48a957",
   "metadata": {},
   "outputs": [
    {
     "data": {
      "text/plain": [
       "(32561, 15)"
      ]
     },
     "execution_count": 3,
     "metadata": {},
     "output_type": "execute_result"
    }
   ],
   "source": [
    "census_base.shape"
   ]
  },
  {
   "cell_type": "code",
   "execution_count": 4,
   "id": "a2f6fb93-ca05-4759-a3d5-28342cb539f2",
   "metadata": {
    "scrolled": true
   },
   "outputs": [
    {
     "data": {
      "text/html": [
       "<div>\n",
       "<style scoped>\n",
       "    .dataframe tbody tr th:only-of-type {\n",
       "        vertical-align: middle;\n",
       "    }\n",
       "\n",
       "    .dataframe tbody tr th {\n",
       "        vertical-align: top;\n",
       "    }\n",
       "\n",
       "    .dataframe thead th {\n",
       "        text-align: right;\n",
       "    }\n",
       "</style>\n",
       "<table border=\"1\" class=\"dataframe\">\n",
       "  <thead>\n",
       "    <tr style=\"text-align: right;\">\n",
       "      <th></th>\n",
       "      <th>age</th>\n",
       "      <th>workclass</th>\n",
       "      <th>final-weight</th>\n",
       "      <th>education</th>\n",
       "      <th>education-num</th>\n",
       "      <th>marital-status</th>\n",
       "      <th>occupation</th>\n",
       "      <th>relationship</th>\n",
       "      <th>race</th>\n",
       "      <th>sex</th>\n",
       "      <th>capital-gain</th>\n",
       "      <th>capital-loos</th>\n",
       "      <th>hour-per-week</th>\n",
       "      <th>native-country</th>\n",
       "      <th>income</th>\n",
       "    </tr>\n",
       "  </thead>\n",
       "  <tbody>\n",
       "    <tr>\n",
       "      <th>0</th>\n",
       "      <td>39</td>\n",
       "      <td>State-gov</td>\n",
       "      <td>77516</td>\n",
       "      <td>Bachelors</td>\n",
       "      <td>13</td>\n",
       "      <td>Never-married</td>\n",
       "      <td>Adm-clerical</td>\n",
       "      <td>Not-in-family</td>\n",
       "      <td>White</td>\n",
       "      <td>Male</td>\n",
       "      <td>2174</td>\n",
       "      <td>0</td>\n",
       "      <td>40</td>\n",
       "      <td>United-States</td>\n",
       "      <td>&lt;=50K</td>\n",
       "    </tr>\n",
       "    <tr>\n",
       "      <th>1</th>\n",
       "      <td>50</td>\n",
       "      <td>Self-emp-not-inc</td>\n",
       "      <td>83311</td>\n",
       "      <td>Bachelors</td>\n",
       "      <td>13</td>\n",
       "      <td>Married-civ-spouse</td>\n",
       "      <td>Exec-managerial</td>\n",
       "      <td>Husband</td>\n",
       "      <td>White</td>\n",
       "      <td>Male</td>\n",
       "      <td>0</td>\n",
       "      <td>0</td>\n",
       "      <td>13</td>\n",
       "      <td>United-States</td>\n",
       "      <td>&lt;=50K</td>\n",
       "    </tr>\n",
       "    <tr>\n",
       "      <th>2</th>\n",
       "      <td>38</td>\n",
       "      <td>Private</td>\n",
       "      <td>215646</td>\n",
       "      <td>HS-grad</td>\n",
       "      <td>9</td>\n",
       "      <td>Divorced</td>\n",
       "      <td>Handlers-cleaners</td>\n",
       "      <td>Not-in-family</td>\n",
       "      <td>White</td>\n",
       "      <td>Male</td>\n",
       "      <td>0</td>\n",
       "      <td>0</td>\n",
       "      <td>40</td>\n",
       "      <td>United-States</td>\n",
       "      <td>&lt;=50K</td>\n",
       "    </tr>\n",
       "    <tr>\n",
       "      <th>3</th>\n",
       "      <td>53</td>\n",
       "      <td>Private</td>\n",
       "      <td>234721</td>\n",
       "      <td>11th</td>\n",
       "      <td>7</td>\n",
       "      <td>Married-civ-spouse</td>\n",
       "      <td>Handlers-cleaners</td>\n",
       "      <td>Husband</td>\n",
       "      <td>Black</td>\n",
       "      <td>Male</td>\n",
       "      <td>0</td>\n",
       "      <td>0</td>\n",
       "      <td>40</td>\n",
       "      <td>United-States</td>\n",
       "      <td>&lt;=50K</td>\n",
       "    </tr>\n",
       "    <tr>\n",
       "      <th>4</th>\n",
       "      <td>28</td>\n",
       "      <td>Private</td>\n",
       "      <td>338409</td>\n",
       "      <td>Bachelors</td>\n",
       "      <td>13</td>\n",
       "      <td>Married-civ-spouse</td>\n",
       "      <td>Prof-specialty</td>\n",
       "      <td>Wife</td>\n",
       "      <td>Black</td>\n",
       "      <td>Female</td>\n",
       "      <td>0</td>\n",
       "      <td>0</td>\n",
       "      <td>40</td>\n",
       "      <td>Cuba</td>\n",
       "      <td>&lt;=50K</td>\n",
       "    </tr>\n",
       "  </tbody>\n",
       "</table>\n",
       "</div>"
      ],
      "text/plain": [
       "   age          workclass  final-weight   education  education-num  \\\n",
       "0   39          State-gov         77516   Bachelors             13   \n",
       "1   50   Self-emp-not-inc         83311   Bachelors             13   \n",
       "2   38            Private        215646     HS-grad              9   \n",
       "3   53            Private        234721        11th              7   \n",
       "4   28            Private        338409   Bachelors             13   \n",
       "\n",
       "        marital-status          occupation    relationship    race      sex  \\\n",
       "0        Never-married        Adm-clerical   Not-in-family   White     Male   \n",
       "1   Married-civ-spouse     Exec-managerial         Husband   White     Male   \n",
       "2             Divorced   Handlers-cleaners   Not-in-family   White     Male   \n",
       "3   Married-civ-spouse   Handlers-cleaners         Husband   Black     Male   \n",
       "4   Married-civ-spouse      Prof-specialty            Wife   Black   Female   \n",
       "\n",
       "   capital-gain  capital-loos  hour-per-week  native-country  income  \n",
       "0          2174             0             40   United-States   <=50K  \n",
       "1             0             0             13   United-States   <=50K  \n",
       "2             0             0             40   United-States   <=50K  \n",
       "3             0             0             40   United-States   <=50K  \n",
       "4             0             0             40            Cuba   <=50K  "
      ]
     },
     "execution_count": 4,
     "metadata": {},
     "output_type": "execute_result"
    }
   ],
   "source": [
    "census_base.head(5)"
   ]
  },
  {
   "cell_type": "code",
   "execution_count": 5,
   "id": "cb3c7257-1254-4f9c-9228-5d1c8995f29a",
   "metadata": {},
   "outputs": [
    {
     "data": {
      "text/plain": [
       "(array([' <=50K', ' >50K'], dtype=object), array([24720,  7841], dtype=int64))"
      ]
     },
     "execution_count": 5,
     "metadata": {},
     "output_type": "execute_result"
    }
   ],
   "source": [
    "np.unique(census_base['income'], return_counts=True)"
   ]
  },
  {
   "cell_type": "markdown",
   "id": "d1948745-7789-40ad-a379-f44a705271ee",
   "metadata": {},
   "source": [
    "### Of the 32561 people in this database:\n",
    "#### 24.720 people earn below 50k\n",
    "#### 7.841 people earn over 50k\n",
    "#### this database is unbalanced"
   ]
  },
  {
   "cell_type": "code",
   "execution_count": 6,
   "id": "159462df-385d-4149-9fab-a6c0f47c5613",
   "metadata": {},
   "outputs": [
    {
     "data": {
      "image/png": "[encoded data removed]",
      "text/plain": [
       "<Figure size 600x400 with 1 Axes>"
      ]
     },
     "metadata": {},
     "output_type": "display_data"
    }
   ],
   "source": [
    "plt.figure(figsize=(6, 4)) \n",
    "census_base['income'].value_counts().plot(kind='bar', color='skyblue')\n",
    "plt.title('Income Attribute Count')\n",
    "plt.xlabel('Income')\n",
    "plt.ylabel('Count')\n",
    "plt.show()"
   ]
  },
  {
   "cell_type": "markdown",
   "id": "6f22cd4b-f6f7-4157-b7b8-e42bd0fd34c0",
   "metadata": {},
   "source": [
    "### Setting up training and testing bases, balancing classifier data, and treating categorical data"
   ]
  },
  {
   "cell_type": "code",
   "execution_count": 7,
   "id": "6c8ad476-9f25-49c1-b829-2498e439dd00",
   "metadata": {},
   "outputs": [],
   "source": [
    "X_census = census_base.iloc[:, 0:14].values"
   ]
  },
  {
   "cell_type": "code",
   "execution_count": 8,
   "id": "7aa5dbb2-785b-4f60-9995-fb90c4f0ff46",
   "metadata": {},
   "outputs": [
    {
     "data": {
      "text/plain": [
       "array([[39, ' State-gov', 77516, ..., 0, 40, ' United-States'],\n",
       "       [50, ' Self-emp-not-inc', 83311, ..., 0, 13, ' United-States'],\n",
       "       [38, ' Private', 215646, ..., 0, 40, ' United-States'],\n",
       "       ...,\n",
       "       [58, ' Private', 151910, ..., 0, 40, ' United-States'],\n",
       "       [22, ' Private', 201490, ..., 0, 20, ' United-States'],\n",
       "       [52, ' Self-emp-inc', 287927, ..., 0, 40, ' United-States']],\n",
       "      dtype=object)"
      ]
     },
     "execution_count": 8,
     "metadata": {},
     "output_type": "execute_result"
    }
   ],
   "source": [
    "X_census"
   ]
  },
  {
   "cell_type": "code",
   "execution_count": 9,
   "id": "aa614b8a-ecd0-42da-b482-fbe9b76236c3",
   "metadata": {},
   "outputs": [],
   "source": [
    "y_census = census_base.iloc[:, 14].values"
   ]
  },
  {
   "cell_type": "code",
   "execution_count": 10,
   "id": "45923d80-2251-4a3c-b94d-ed8894533862",
   "metadata": {},
   "outputs": [
    {
     "data": {
      "text/plain": [
       "array([' <=50K', ' <=50K', ' <=50K', ..., ' <=50K', ' <=50K', ' >50K'],\n",
       "      dtype=object)"
      ]
     },
     "execution_count": 10,
     "metadata": {},
     "output_type": "execute_result"
    }
   ],
   "source": [
    "y_census"
   ]
  },
  {
   "cell_type": "markdown",
   "id": "e18c37a2-f114-4ce6-a871-bd3dceb111b7",
   "metadata": {},
   "source": [
    "### LabelEncoder"
   ]
  },
  {
   "cell_type": "code",
   "execution_count": 11,
   "id": "28b39d10-4444-4ccf-b98a-a3b5c032c005",
   "metadata": {},
   "outputs": [],
   "source": [
    "label_encoder_workclass = LabelEncoder()\n",
    "label_encoder_education = LabelEncoder()\n",
    "label_encoder_maritalstatus = LabelEncoder()\n",
    "label_encoder_occupation = LabelEncoder()\n",
    "label_encoder_relationship = LabelEncoder()\n",
    "label_encoder_race = LabelEncoder()\n",
    "label_encoder_sex = LabelEncoder()\n",
    "label_encoder_nativecountry = LabelEncoder()"
   ]
  },
  {
   "cell_type": "code",
   "execution_count": 12,
   "id": "a2b9d923-37dc-4e5c-aa66-1c74415e18df",
   "metadata": {},
   "outputs": [],
   "source": [
    "X_census[:, 1] = label_encoder_workclass.fit_transform(X_census[:, 1])\n",
    "X_census[:, 3] = label_encoder_education.fit_transform(X_census[:, 3])\n",
    "X_census[:, 5] = label_encoder_maritalstatus.fit_transform(X_census[:, 5])\n",
    "X_census[:, 6] = label_encoder_occupation.fit_transform(X_census[:, 6])\n",
    "X_census[:, 7] = label_encoder_relationship.fit_transform(X_census[:, 7])\n",
    "X_census[:, 8] = label_encoder_race.fit_transform(X_census[:, 8])\n",
    "X_census[:, 9] = label_encoder_sex.fit_transform(X_census[:, 9])\n",
    "X_census[:, 13] = label_encoder_nativecountry.fit_transform(X_census[:, 13])"
   ]
  },
  {
   "cell_type": "code",
   "execution_count": 13,
   "id": "62785c2e-bf7e-47a4-9f6a-03374ad1a1d0",
   "metadata": {},
   "outputs": [],
   "source": [
    "y_census = y_census.reshape(-1,1)\n",
    "label_encoder_income = LabelEncoder()\n",
    "y_census[:, 0] = label_encoder_income.fit_transform(y_census[:, 0])\n"
   ]
  },
  {
   "cell_type": "markdown",
   "id": "8dcea6db-eab0-4520-822b-02bcbfa7b1df",
   "metadata": {},
   "source": [
    "### Normalizing classifier data for keras/tensorflow"
   ]
  },
  {
   "cell_type": "code",
   "execution_count": 14,
   "id": "84990d45-5525-42ce-969f-e2466b8df8a8",
   "metadata": {},
   "outputs": [
    {
     "data": {
      "text/plain": [
       "array([[0],\n",
       "       [0],\n",
       "       [0],\n",
       "       ...,\n",
       "       [0],\n",
       "       [0],\n",
       "       [1]], dtype=object)"
      ]
     },
     "execution_count": 14,
     "metadata": {},
     "output_type": "execute_result"
    }
   ],
   "source": [
    "y_census"
   ]
  },
  {
   "cell_type": "code",
   "execution_count": 15,
   "id": "a9620f10-383f-46f0-bc0e-2661269bfc9d",
   "metadata": {},
   "outputs": [],
   "source": [
    "y_census = y_census.ravel()"
   ]
  },
  {
   "cell_type": "code",
   "execution_count": 16,
   "id": "137a0184-6780-4d54-8044-4ac56da97d54",
   "metadata": {
    "scrolled": true
   },
   "outputs": [
    {
     "data": {
      "text/plain": [
       "array([0., 0., 0., ..., 0., 0., 1.])"
      ]
     },
     "execution_count": 16,
     "metadata": {},
     "output_type": "execute_result"
    }
   ],
   "source": [
    "y_census = y_census.astype(float)\n",
    "y_census"
   ]
  },
  {
   "cell_type": "markdown",
   "id": "02defeee-7567-466e-9ebc-f74eb4f90153",
   "metadata": {},
   "source": [
    "#### <=50K = 0\n",
    "#### >50K = 1"
   ]
  },
  {
   "cell_type": "markdown",
   "id": "2fd8671c-bee5-493f-b67c-6052033ff334",
   "metadata": {},
   "source": [
    "### Applying Oversampling with SMOTE:"
   ]
  },
  {
   "cell_type": "code",
   "execution_count": 17,
   "id": "8e1ad93b-5319-44cd-ae59-113c3aa38883",
   "metadata": {},
   "outputs": [],
   "source": [
    "smote = SMOTE(sampling_strategy='minority')"
   ]
  },
  {
   "cell_type": "code",
   "execution_count": 18,
   "id": "6aefb190-a71b-422b-85b6-0b68093ffa98",
   "metadata": {},
   "outputs": [
    {
     "data": {
      "text/plain": [
       "((32561, 14), (32561,))"
      ]
     },
     "execution_count": 18,
     "metadata": {},
     "output_type": "execute_result"
    }
   ],
   "source": [
    "X_census.shape, y_census.shape"
   ]
  },
  {
   "cell_type": "code",
   "execution_count": 19,
   "id": "078b59a9-8c88-4758-818f-5a30233977f7",
   "metadata": {},
   "outputs": [],
   "source": [
    "X_census, y_census = smote.fit_resample(X_census, y_census)"
   ]
  },
  {
   "cell_type": "code",
   "execution_count": 20,
   "id": "a5861391-8f79-4b83-a34c-031817d53f8d",
   "metadata": {},
   "outputs": [
    {
     "data": {
      "text/plain": [
       "((49440, 14), (49440,))"
      ]
     },
     "execution_count": 20,
     "metadata": {},
     "output_type": "execute_result"
    }
   ],
   "source": [
    "X_census.shape, y_census.shape"
   ]
  },
  {
   "cell_type": "markdown",
   "id": "799d25dc-30a0-4fa6-bbf8-8314c14bc968",
   "metadata": {},
   "source": [
    "### Original base"
   ]
  },
  {
   "cell_type": "code",
   "execution_count": 21,
   "id": "51dae006-2306-4c42-8b79-a1435f5d1522",
   "metadata": {},
   "outputs": [
    {
     "data": {
      "text/plain": [
       "(array([0, 1], dtype=object), array([24720,  7841], dtype=int64))"
      ]
     },
     "execution_count": 21,
     "metadata": {},
     "output_type": "execute_result"
    }
   ],
   "source": [
    "np.unique(census_base['income'], return_counts=True)"
   ]
  },
  {
   "cell_type": "markdown",
   "id": "14535e97-19ca-4e9d-b0b3-52c2f746c642",
   "metadata": {},
   "source": [
    "### New base"
   ]
  },
  {
   "cell_type": "code",
   "execution_count": 22,
   "id": "03e758e6-4c32-4dac-aab3-45a4bba67937",
   "metadata": {},
   "outputs": [
    {
     "data": {
      "text/plain": [
       "(array([0., 1.]), array([24720, 24720], dtype=int64))"
      ]
     },
     "execution_count": 22,
     "metadata": {},
     "output_type": "execute_result"
    }
   ],
   "source": [
    "np.unique(y_census, return_counts=True)"
   ]
  },
  {
   "cell_type": "markdown",
   "id": "c48073cd-fe21-4825-b554-d2c954cc8534",
   "metadata": {},
   "source": [
    "## OneHotEncoder"
   ]
  },
  {
   "cell_type": "code",
   "execution_count": 23,
   "id": "e0154ec6-4d6b-43ea-bc5b-305fb7b06d59",
   "metadata": {},
   "outputs": [],
   "source": [
    "onehotencoder = ColumnTransformer(\n",
    "    transformers=[('OneHot', OneHotEncoder(), \n",
    "                  [1, 3, 5, 6, 7, 8, 9, 13]\n",
    "                  )], \n",
    "    remainder='passthrough'\n",
    ")\n",
    "X_census = onehotencoder.fit_transform(X_census).toarray()"
   ]
  },
  {
   "cell_type": "code",
   "execution_count": 24,
   "id": "546ab944-0c46-43c2-a0e9-d75c3af0f16c",
   "metadata": {},
   "outputs": [
    {
     "data": {
      "text/plain": [
       "((49440, 57613), (49440,))"
      ]
     },
     "execution_count": 24,
     "metadata": {},
     "output_type": "execute_result"
    }
   ],
   "source": [
    "X_census.shape, y_census.shape"
   ]
  },
  {
   "cell_type": "markdown",
   "id": "86c70d80-0e35-415b-bc07-18ee329253c2",
   "metadata": {},
   "source": [
    "## Stardard Scaler"
   ]
  },
  {
   "cell_type": "code",
   "execution_count": 25,
   "id": "3ffa2b52-50f3-453e-91c3-7a203dc6445e",
   "metadata": {},
   "outputs": [
    {
     "data": {
      "text/plain": [
       "array([[-0.19666541, -0.00449744, -0.00449744, ...,  0.00790781,\n",
       "        -0.25454378, -0.18752092],\n",
       "       [-0.19666541, -0.00449744, -0.00449744, ..., -0.19626062,\n",
       "        -0.25454378, -2.52784083],\n",
       "       [-0.19666541, -0.00449744, -0.00449744, ..., -0.19626062,\n",
       "        -0.25454378, -0.18752092],\n",
       "       ...,\n",
       "       [-0.19666541, -0.00449744, -0.00449744, ..., -0.19626062,\n",
       "        -0.25454378, -0.18752092],\n",
       "       [-0.19666541, -0.00449744, -0.00449744, ..., -0.19626062,\n",
       "        -0.25454378,  0.53188218],\n",
       "       [-0.19666541, -0.00449744, -0.00449744, ..., -0.19626062,\n",
       "        -0.25454378, -0.08169859]])"
      ]
     },
     "execution_count": 25,
     "metadata": {},
     "output_type": "execute_result"
    }
   ],
   "source": [
    "X_scaler = StandardScaler()\n",
    "X_census = X_scaler.fit_transform(X_census)\n",
    "X_census"
   ]
  },
  {
   "cell_type": "code",
   "execution_count": 26,
   "id": "10fec20f-17df-41d1-aec2-8ad3045dcae0",
   "metadata": {},
   "outputs": [
    {
     "data": {
      "text/plain": [
       "((49440, 57613), (49440,))"
      ]
     },
     "execution_count": 26,
     "metadata": {},
     "output_type": "execute_result"
    }
   ],
   "source": [
    "X_census.shape, y_census.shape"
   ]
  },
  {
   "cell_type": "markdown",
   "id": "81f03870-09a3-449e-8ce2-8aef50d730a3",
   "metadata": {},
   "source": [
    "### Separating the bases for training and test:"
   ]
  },
  {
   "cell_type": "code",
   "execution_count": 27,
   "id": "cdd4759f-cc91-472c-a6df-5959e04ea78a",
   "metadata": {},
   "outputs": [],
   "source": [
    "X_training, X_test, y_training, y_test = train_test_split(X_census, y_census, \n",
    "                                                          test_size=0.15, \n",
    "                                                          random_state=0)"
   ]
  },
  {
   "cell_type": "code",
   "execution_count": 28,
   "id": "ddb0671e-7e48-4152-85ea-1546ab108491",
   "metadata": {},
   "outputs": [],
   "source": [
    "with open('pre_processed_census_database.pkl', mode='wb') as f :\n",
    "    pickle.dump([X_training, y_training, X_test, y_test, X_scaler], f)"
   ]
  }
 ],
 "metadata": {
  "kernelspec": {
   "display_name": "Python 3 (ipykernel)",
   "language": "python",
   "name": "python3"
  },
  "language_info": {
   "codemirror_mode": {
    "name": "ipython",
    "version": 3
   },
   "file_extension": ".py",
   "mimetype": "text/x-python",
   "name": "python",
   "nbconvert_exporter": "python",
   "pygments_lexer": "ipython3",
   "version": "3.11.4"
  }
 },
 "nbformat": 4,
 "nbformat_minor": 5
}
